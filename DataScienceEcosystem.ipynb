{
 "cells": [
  {
   "cell_type": "markdown",
   "id": "38961b2f",
   "metadata": {},
   "source": [
    "# Data Science Tools and Ecosystem"
   ]
  },
  {
   "cell_type": "markdown",
   "id": "ce6a32de",
   "metadata": {},
   "source": [
    "This notebook presents a summary of Data Science Tools and Ecosystem"
   ]
  },
  {
   "cell_type": "markdown",
   "id": "0bda1294",
   "metadata": {},
   "source": [
    "Some of the popular languages used for Data Science are:\n",
    "1. Python\n",
    "2. R\n",
    "3. SQL\n",
    "4. Scala"
   ]
  },
  {
   "cell_type": "markdown",
   "id": "4f6e5d11",
   "metadata": {},
   "source": [
    "Some of the popular data science libraries are:\n",
    "1. Pandas (Python)\n",
    "2. SciPy (Python)\n",
    "3. NumPy (Python)\n",
    "4. Matplotlib (Python)\n",
    "5. Scikit Learn (Python)\n",
    "6. Tensorflow (Python, R)\n",
    "7. ggplot (R)\n",
    "8. Vegas (Scala)\n",
    "9. BigDL (Scala)"
   ]
  },
  {
   "cell_type": "markdown",
   "id": "c5d1e858",
   "metadata": {},
   "source": [
    "| Data Science Tools|\n",
    "|-------------------|\n",
    "| Jupyter Notebooks |\n",
    "| Jupyter Labs |\n",
    "| R Studio |\n",
    "| Spyder |"
   ]
  },
  {
   "cell_type": "markdown",
   "id": "ba5494dd",
   "metadata": {},
   "source": [
    "### Examples of evaluating arithmetic expressions in Python"
   ]
  },
  {
   "cell_type": "code",
   "execution_count": 4,
   "id": "86f9353e",
   "metadata": {},
   "outputs": [
    {
     "data": {
      "text/plain": [
       "17"
      ]
     },
     "execution_count": 4,
     "metadata": {},
     "output_type": "execute_result"
    }
   ],
   "source": [
    "# This a simple arithmetic expression to mutiply then add integers\n",
    "(3*4)+5"
   ]
  },
  {
   "cell_type": "code",
   "execution_count": 5,
   "id": "cbb5d7dd",
   "metadata": {
    "scrolled": true
   },
   "outputs": [
    {
     "data": {
      "text/plain": [
       "3.3333333333333335"
      ]
     },
     "execution_count": 5,
     "metadata": {},
     "output_type": "execute_result"
    }
   ],
   "source": [
    "# Converting 200 minutes to hours\n",
    "200/60"
   ]
  },
  {
   "cell_type": "markdown",
   "id": "1fb9ed1b",
   "metadata": {},
   "source": [
    "**Objectives:**\n",
    "* List popular languages of Data Science\n",
    "* List popular libraries of Data Science\n",
    "* Evaluate arithmetic expressions using Python"
   ]
  },
  {
   "cell_type": "markdown",
   "id": "04c62db3",
   "metadata": {},
   "source": [
    "## Author\n",
    "Mantrala Venkata Kalyan Ram"
   ]
  }
 ],
 "metadata": {
  "kernelspec": {
   "display_name": "Python 3 (ipykernel)",
   "language": "python",
   "name": "python3"
  },
  "language_info": {
   "codemirror_mode": {
    "name": "ipython",
    "version": 3
   },
   "file_extension": ".py",
   "mimetype": "text/x-python",
   "name": "python",
   "nbconvert_exporter": "python",
   "pygments_lexer": "ipython3",
   "version": "3.10.9"
  }
 },
 "nbformat": 4,
 "nbformat_minor": 5
}
